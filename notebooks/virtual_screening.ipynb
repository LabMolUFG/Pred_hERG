{
 "cells": [
  {
   "cell_type": "code",
   "execution_count": null,
   "metadata": {},
   "outputs": [],
   "source": [
    "#iport external data\n",
    "import pandas as pd\n",
    "import numpy as np\n",
    "from rdkit.Chem import MACCSkeys\n",
    "from rdkit import Chem, DataStructs\n",
    "from sklearn.model_selection import cross_validate\n",
    "from sklearn.metrics import confusion_matrix"
   ]
  },
  {
   "cell_type": "code",
   "execution_count": null,
   "metadata": {},
   "outputs": [],
   "source": [
    "#in-house functions\n",
    "def rdkit_numpy_convert(fp):\n",
    "    \"\"\"Convert rdkit mol to numpy array\"\"\"\n",
    "    output = []\n",
    "    for f in fp:\n",
    "        arr = np.zeros((1,))\n",
    "        DataStructs.ConvertToNumpyArray(f, arr)\n",
    "        output.append(arr)\n",
    "    return np.asarray(output)"
   ]
  },
  {
   "cell_type": "code",
   "execution_count": null,
   "metadata": {},
   "outputs": [],
   "source": [
    "#import data\n",
    "fname = 'D:\\\\modls\\\\data_unseen_dataset_natura.csv'\n",
    "externalset = pd.read_csv(fname)"
   ]
  },
  {
   "cell_type": "code",
   "execution_count": null,
   "metadata": {},
   "outputs": [],
   "source": [
    "#import model\n",
    "with open(f\"D:\\\\modls\\\\model_binary_lgbm_maccs_fp.joblib\", 'rb') as f:\n",
    "        opt_model = joblib.load(f)\n",
    "\n",
    "#calculate fp\n",
    "mols = [Chem.MolFromSmiles(smile) for smile in externalset['SMILES']]\n",
    "fps = [MACCSkeys.GenMACCSKeys(mol) for mol in mols]\n",
    "\n",
    "#define x_ext and y_ext\n",
    "x_ext = rdkit_numpy_convert(fps)\n",
    "y_ext = [1 if activity.lower() == 'positive' else 0 for activity in externalset['Ames Global']]\n",
    "\n",
    "#predict\n",
    "probs_external = opt_model.predict(x_ext)\n",
    "\n",
    "#add the predicted value to original dataset\n",
    "predict_y = pd.DataFrame([[i] for i in np.array(probs_external)])\n",
    "externalset['original_y'] = y_ext\n",
    "externalset['predict_y'] = predict_y\n",
    "\n",
    "#calculate confusion matrix\n",
    "def confusion_matrix_scorer(clf, X, y):\n",
    "    y_pred = clf.predict(X)\n",
    "    cm = confusion_matrix(y, y_pred)\n",
    "    return {'tn': cm[0, 0], 'fp': cm[0, 1],\n",
    "    'fn': cm[1, 0], 'tp': cm[1, 1]}\n",
    "\n",
    "confus_matrix = cross_validate(opt_model, predict_y, y_ext, cv=5, scoring=confusion_matrix_scorer)\n",
    "tn = pd.DataFrame([[i] for i in np.array(confus_matrix['test_tn'])])\n",
    "tn.rename(columns = {0:'fold_1'}, inplace = True)\n",
    "\n",
    "fp = pd.DataFrame([[i] for i in np.array(confus_matrix['test_fp'])])\n",
    "fp.rename(columns = {0:'fold_1'}, inplace = True)\n",
    "\n",
    "fn = pd.DataFrame([[i] for i in np.array(confus_matrix['test_fn'])])\n",
    "fn.rename(columns = {0:'fold_1'}, inplace = True)\n",
    "\n",
    "tp = pd.DataFrame([[i] for i in np.array(confus_matrix['test_tp'])])\n",
    "tp.rename(columns = {0:'fold_1'}, inplace = True)\n",
    "\n",
    "confusion = [tn, fp, fn, tp]\n",
    "confusion_final = pd.concat(confusion, axis=1)\n",
    "\n",
    "#save\n",
    "externalset.to_csv(f'D:\\\\modls\\\\unseen_data_with_ypred.csv')\n",
    "confusion_final.to_csv(f'D:\\\\modls\\\\unseen_data_confusionmatrix_with_ypred.csv')\n"
   ]
  }
 ],
 "metadata": {
  "kernelspec": {
   "display_name": "Python 3.7.6 ('new_env')",
   "language": "python",
   "name": "python3"
  },
  "language_info": {
   "name": "python",
   "version": "3.7.6"
  },
  "orig_nbformat": 4,
  "vscode": {
   "interpreter": {
    "hash": "eca9240cf229199142345aaba8fbda6bf5a3729d68e97676ea0a0600cad5bcd4"
   }
  }
 },
 "nbformat": 4,
 "nbformat_minor": 2
}
