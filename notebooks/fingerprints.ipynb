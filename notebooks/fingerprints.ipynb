{
 "cells": [
  {
   "cell_type": "code",
   "execution_count": null,
   "metadata": {},
   "outputs": [],
   "source": [
    "#import functions\n",
    "import sys,os\n",
    "import glob\n",
    "try: \n",
    "    if(cwd is not None):\n",
    "        from functions.utils_fp import *\n",
    "except:\n",
    "    %cd ..\n",
    "    cwd = os.getcwd()\n",
    "    sys.path.insert(0,cwd)\n",
    "    from functions.utils_fp import *"
   ]
  },
  {
   "cell_type": "code",
   "execution_count": null,
   "metadata": {},
   "outputs": [],
   "source": [
    "## Define file name\n",
    "#path to file IS NOT NEEDED\n",
    "fname_binary = './data/curated_data/curated_binary.csv'\n",
    "fname_regression = './data/curated_data/curated_regression.csv'\n",
    "fname_multiclass = './data/curated_data/curated_multiclass.csv'"
   ]
  },
  {
   "cell_type": "code",
   "execution_count": null,
   "metadata": {},
   "outputs": [],
   "source": [
    "#import data\n",
    "data_binary = check_extention(fname_binary)\n",
    "data_regression = check_extention(fname_regression)\n",
    "data_multiclass = check_extention(fname_multiclass)"
   ]
  },
  {
   "cell_type": "markdown",
   "metadata": {},
   "source": [
    "# binary x and y generation"
   ]
  },
  {
   "cell_type": "code",
   "execution_count": null,
   "metadata": {},
   "outputs": [],
   "source": [
    "#generate x\n",
    "radii = [2]\n",
    "bits = [1024]\n",
    "fp_generation(data_binary['SMILES'], radii, bits, 'binary')\n",
    "\n",
    "#generate y\n",
    "y_generation(data_binary['Outcome'], 'binary')"
   ]
  },
  {
   "cell_type": "markdown",
   "metadata": {},
   "source": [
    "# regression x and y generation"
   ]
  },
  {
   "cell_type": "code",
   "execution_count": null,
   "metadata": {},
   "outputs": [],
   "source": [
    "#generate x\n",
    "radii = [2]\n",
    "bits = [1024]\n",
    "fp_generation(data_regression['SMILES'], radii, bits, 'regression')\n",
    "\n",
    "#generate y\n",
    "y_generation(data_regression['pIC50 (uM)'], 'regression')"
   ]
  },
  {
   "cell_type": "markdown",
   "metadata": {},
   "source": [
    "# multiclass x and y generation"
   ]
  },
  {
   "cell_type": "code",
   "execution_count": null,
   "metadata": {},
   "outputs": [],
   "source": [
    "#generate x\n",
    "radii = [2]\n",
    "bits = [1024]\n",
    "fp_generation(data_multiclass['SMILES'], radii, bits, 'multiclass')\n",
    "\n",
    "#generate y\n",
    "y_generation(data_multiclass['Outcome'], 'multiclass')"
   ]
  }
 ],
 "metadata": {
  "kernelspec": {
   "display_name": "Python 3.10.6 ('chem_pipeline')",
   "language": "python",
   "name": "python3"
  },
  "language_info": {
   "codemirror_mode": {
    "name": "ipython",
    "version": 3
   },
   "file_extension": ".py",
   "mimetype": "text/x-python",
   "name": "python",
   "nbconvert_exporter": "python",
   "pygments_lexer": "ipython3",
   "version": "3.10.6"
  },
  "orig_nbformat": 4,
  "vscode": {
   "interpreter": {
    "hash": "a59e22669eba1dc6e4d930302cbb600e9d71d81892f6be3c25d1b723809ef057"
   }
  }
 },
 "nbformat": 4,
 "nbformat_minor": 2
}
